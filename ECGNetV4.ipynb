{
 "cells": [
  {
   "cell_type": "markdown",
   "source": [
    "# Alireza KHODABAKHSH\n",
    " https://github.com/alirezakhodabakhsh\n",
    " "
   ],
   "metadata": {
    "collapsed": false
   },
   "id": "86e5cbb6660a2811"
  },
  {
   "cell_type": "markdown",
   "source": [
    "# Lib"
   ],
   "metadata": {
    "collapsed": false
   },
   "id": "b7e84f27ef0059bd"
  },
  {
   "cell_type": "code",
   "execution_count": 1,
   "outputs": [],
   "source": [
    "import torch\n",
    "torch.manual_seed(42)\n",
    "from torch import nn\n",
    "import random\n",
    "random.seed(42)\n",
    "from CustomDataset import ECGDataset, ECG_Normalize\n",
    "from torch.utils.data import random_split\n",
    "import torch.optim as optim\n",
    "from tqdm import tqdm\n",
    "import matplotlib.pyplot as plt\n",
    "from torch.nn.modules.module import _addindent"
   ],
   "metadata": {
    "collapsed": false,
    "ExecuteTime": {
     "end_time": "2024-02-21T17:56:32.765919Z",
     "start_time": "2024-02-21T17:56:29.860143800Z"
    }
   },
   "id": "b76a367a96b52c97"
  },
  {
   "cell_type": "markdown",
   "source": [
    "# Helper"
   ],
   "metadata": {
    "collapsed": false
   },
   "id": "8a89346a2b199243"
  },
  {
   "cell_type": "code",
   "execution_count": 2,
   "outputs": [],
   "source": [
    "def evaluate_classifier(model, dataloader, criterion, device='cpu'):\n",
    "    model.eval()\n",
    "    running_loss = 0.0\n",
    "    correct = 0\n",
    "    total = 0\n",
    "    with torch.no_grad():\n",
    "        for inputs, labels in dataloader:\n",
    "            inputs, labels = inputs.to(device), labels.to(device)\n",
    "            inputs, labels = inputs.float(), labels.long()\n",
    "            inputs = torch.unsqueeze(inputs, 1)\n",
    "            outputs = model(inputs)\n",
    "            loss = criterion(outputs, labels)\n",
    "\n",
    "            running_loss += loss.item()\n",
    "            _, predicted = outputs.max(1)\n",
    "            total += labels.size(0)\n",
    "            correct += predicted.eq(labels).sum().item()\n",
    "\n",
    "    val_loss = running_loss / len(dataloader)\n",
    "    val_acc = 100. * correct / total\n",
    "    return val_loss, val_acc"
   ],
   "metadata": {
    "collapsed": false,
    "ExecuteTime": {
     "end_time": "2024-02-21T17:56:32.775581800Z",
     "start_time": "2024-02-21T17:56:32.765919Z"
    }
   },
   "id": "e307a326482d15cc"
  },
  {
   "cell_type": "code",
   "execution_count": 3,
   "outputs": [],
   "source": [
    "def plot_training_history(epochs, train_losses, train_accuracies, val_losses, val_accuracies):\n",
    "    \"\"\"\n",
    "    Plots the training and validation loss and accuracy up to the current epoch.\n",
    "    \"\"\"\n",
    "    plt.figure(figsize=(8, 4))\n",
    "\n",
    "    plt.subplot(1, 2, 1)\n",
    "    plt.plot(epochs, train_losses, label='Train Loss')\n",
    "    plt.plot(epochs, val_losses, label='Validation Loss')\n",
    "    plt.title('Loss Curve')\n",
    "    plt.xlabel('Epoch')\n",
    "    plt.ylabel('Loss')\n",
    "    plt.legend()\n",
    "\n",
    "    plt.subplot(1, 2, 2)\n",
    "    plt.plot(epochs, train_accuracies, label='Train Accuracy')\n",
    "    plt.plot(epochs, val_accuracies, label='Validation Accuracy')\n",
    "    plt.title('Accuracy Curve')\n",
    "    plt.xlabel('Epoch')\n",
    "    plt.ylabel('Accuracy (%)')\n",
    "    plt.legend()\n",
    "\n",
    "    plt.tight_layout()\n",
    "    plt.show()"
   ],
   "metadata": {
    "collapsed": false,
    "ExecuteTime": {
     "end_time": "2024-02-21T17:56:32.786422200Z",
     "start_time": "2024-02-21T17:56:32.786422200Z"
    }
   },
   "id": "87e25706d2df6004"
  },
  {
   "cell_type": "markdown",
   "source": [
    "# Hyper"
   ],
   "metadata": {
    "collapsed": false
   },
   "id": "8397f3813443a47b"
  },
  {
   "cell_type": "code",
   "execution_count": 17,
   "outputs": [],
   "source": [
    "device = 'cuda'\n",
    "# ARGS\n",
    "length_channels = 187\n",
    "num_channels = 1\n",
    "\n",
    "num_epochs=10\n",
    "learning_rate = 0.005\n",
    "save_path=\"best_ECGNet_model.pth\""
   ],
   "metadata": {
    "collapsed": false,
    "ExecuteTime": {
     "end_time": "2024-02-21T18:01:07.042012400Z",
     "start_time": "2024-02-21T18:01:07.033612500Z"
    }
   },
   "id": "eb460114f96f0e48"
  },
  {
   "cell_type": "markdown",
   "source": [
    "# Data"
   ],
   "metadata": {
    "collapsed": false
   },
   "id": "482430e33a02857c"
  },
  {
   "cell_type": "code",
   "execution_count": null,
   "outputs": [],
   "source": [
    "# Dataset Link\n",
    "\"https://www.kaggle.com/datasets/shayanfazeli/heartbeat/data?select=ptbdb_normal.csv\""
   ],
   "metadata": {
    "collapsed": false
   },
   "id": "241506aff2836ea7"
  },
  {
   "cell_type": "code",
   "execution_count": 18,
   "id": "initial_id",
   "metadata": {
    "collapsed": true,
    "ExecuteTime": {
     "end_time": "2024-02-21T18:01:10.167515200Z",
     "start_time": "2024-02-21T18:01:07.697749300Z"
    }
   },
   "outputs": [],
   "source": [
    "import numpy as np\n",
    "from torch.utils.data import DataLoader, random_split\n",
    "\n",
    "# Assuming ECGDataset and data_loaders are defined elsewhere\n",
    "normalize_transform = ECG_Normalize()\n",
    "\n",
    "# Create the full dataset\n",
    "full_dataset = ECGDataset(\"D:\\\\GitHub\\\\TimeEntropyNN\\\\Dataset\\\\ECG_Kaggle\\\\PTBDB\", transform=normalize_transform)\n",
    "\n",
    "# Shuffle dataset indices\n",
    "dataset_size = len(full_dataset)\n",
    "indices = list(range(dataset_size))\n",
    "np.random.shuffle(indices)\n",
    "\n",
    "# Optionally: Stratify split your dataset here if needed\n",
    "\n",
    "# Calculate sizes for train, validation, and test sets\n",
    "train_size = int(0.6 * dataset_size)\n",
    "val_size = int(0.2 * dataset_size)\n",
    "test_size = dataset_size - train_size - val_size\n",
    "\n",
    "# Split the dataset according to the shuffled indices\n",
    "train_indices, val_indices, test_indices = indices[:train_size], indices[train_size:train_size+val_size], indices[train_size+val_size:]\n",
    "\n",
    "train_dataset = torch.utils.data.Subset(full_dataset, train_indices)\n",
    "val_dataset = torch.utils.data.Subset(full_dataset, val_indices)\n",
    "test_dataset = torch.utils.data.Subset(full_dataset, test_indices)\n",
    "\n",
    "# Create dataloaders\n",
    "batch_size = 128\n",
    "train_dataloader = DataLoader(train_dataset, batch_size=batch_size, shuffle=True)\n",
    "val_dataloader = DataLoader(val_dataset, batch_size=batch_size, shuffle=False)\n",
    "test_dataloader = DataLoader(test_dataset, batch_size=batch_size, shuffle=False)\n"
   ]
  },
  {
   "cell_type": "markdown",
   "source": [
    "# Network"
   ],
   "metadata": {
    "collapsed": false
   },
   "id": "e196a8cf787e23c3"
  },
  {
   "cell_type": "code",
   "execution_count": null,
   "outputs": [],
   "source": [
    "class Conv2dWithConstraint(nn.Conv2d):\n",
    "    def __init__(self, *args, max_norm=1, **kwargs):\n",
    "        self.max_norm = max_norm\n",
    "        super(Conv2dWithConstraint, self).__init__(*args, **kwargs)\n",
    "\n",
    "    def forward(self, x):\n",
    "        self.weight.data = torch.renorm(\n",
    "            self.weight.data, p=2, dim=0, maxnorm=self.max_norm\n",
    "        )\n",
    "        return super(Conv2dWithConstraint, self).forward(x)"
   ],
   "metadata": {
    "collapsed": false
   },
   "id": "64c5fe9797768743"
  },
  {
   "cell_type": "code",
   "execution_count": null,
   "outputs": [],
   "source": [
    "class ECGNet(nn.Module):\n",
    "    def InitialBlocks(self, dropoutRate, *args, **kwargs):\n",
    "        block1 = nn.Sequential(\n",
    "            nn.Conv2d(1, self.F1, (1, self.kernelLength), stride=1, padding=(0, self.kernelLength // 2), bias=False),\n",
    "            nn.BatchNorm2d(self.F1, momentum=0.01, affine=True, eps=1e-3),\n",
    "\n",
    "            # DepthwiseConv2D =======================\n",
    "            Conv2dWithConstraint(self.F1, self.F1 * self.D, (self.channels, 1), max_norm=1, stride=1, padding=(0, 0),\n",
    "                                 groups=self.F1, bias=False),\n",
    "            # ========================================\n",
    "\n",
    "            nn.BatchNorm2d(self.F1 * self.D, momentum=0.01, affine=True, eps=1e-3),\n",
    "            nn.ELU(),\n",
    "            nn.AvgPool2d((1, 4), stride=4),\n",
    "            nn.Dropout(p=dropoutRate))\n",
    "        block2 = nn.Sequential(\n",
    "            # SeparableConv2D =======================\n",
    "            nn.Conv2d(self.F1 * self.D, self.F1 * self.D, (1, self.kernelLength2), stride=1,\n",
    "                      padding=(0, self.kernelLength2 // 2), bias=False, groups=self.F1 * self.D),\n",
    "            nn.Conv2d(self.F1 * self.D, self.F2, 1, padding=(0, 0), groups=1, bias=False, stride=1),\n",
    "            # ========================================\n",
    "\n",
    "            nn.BatchNorm2d(self.F2, momentum=0.01, affine=True, eps=1e-3),\n",
    "            nn.ELU(),\n",
    "            nn.AvgPool2d((1, 8), stride=8),\n",
    "            nn.Dropout(p=dropoutRate))\n",
    "        return nn.Sequential(block1, block2)\n",
    "\n",
    "\n",
    "    def ClassifierBlock(self, inputSize, n_classes):\n",
    "        return nn.Sequential(\n",
    "            nn.Linear(inputSize, n_classes, bias=False),\n",
    "            nn.Softmax(dim=1))\n",
    "\n",
    "    def CalculateOutSize(self, model, channels, samples):\n",
    "        '''\n",
    "        Calculate the output based on input size.\n",
    "        model is from nn.Module and inputSize is a array.\n",
    "        '''\n",
    "        data = torch.rand(1, 1, channels, samples)\n",
    "        model.eval()\n",
    "        out = model(data).shape\n",
    "        return out[2:]\n",
    "\n",
    "    def __init__(self, n_classes=4, channels=60, samples=151,\n",
    "                 dropoutRate=0.5, kernelLength=64, kernelLength2=16, F1=8,\n",
    "                 D=2, F2=16):\n",
    "        super(ECGNet, self).__init__()\n",
    "        self.F1 = F1\n",
    "        self.F2 = F2\n",
    "        self.D = D\n",
    "        self.samples = samples\n",
    "        self.n_classes = n_classes\n",
    "        self.channels = channels\n",
    "        self.kernelLength = kernelLength\n",
    "        self.kernelLength2 = kernelLength2\n",
    "        self.dropoutRate = dropoutRate\n",
    "\n",
    "        self.blocks = self.InitialBlocks(dropoutRate)\n",
    "        self.blockOutputSize = self.CalculateOutSize(self.blocks, channels, samples)\n",
    "        self.classifierBlock = self.ClassifierBlock(self.F2 * self.blockOutputSize[1], n_classes)\n",
    "\n",
    "    def forward(self, x):\n",
    "        x = self.blocks(x)\n",
    "        x = x.view(x.size()[0], -1)  # Flatten\n",
    "        x = self.classifierBlock(x)\n",
    "\n",
    "        return x\n",
    "\n",
    "def categorical_cross_entropy(y_pred, y_true):\n",
    "    # y_pred = y_pred.cuda()\n",
    "    # y_true = y_true.cuda()\n",
    "    y_pred = torch.clamp(y_pred, 1e-9, 1 - 1e-9)\n",
    "    return -(y_true * torch.log(y_pred)).sum(dim=1).mean()\n",
    "\n",
    "def torch_summarize(model, show_weights=True, show_parameters=True):\n",
    "    \"\"\"Summarizes torch model by showing trainable parameters and weights.\"\"\"\n",
    "    tmpstr = model.__class__.__name__ + ' (\\n'\n",
    "    for key, module in model._modules.items():\n",
    "        # if it contains layers let call it recursively to get params and weights\n",
    "        if type(module) in [\n",
    "            torch.nn.modules.container.Container,\n",
    "            torch.nn.modules.container.Sequential\n",
    "        ]:\n",
    "            modstr = torch_summarize(module)\n",
    "        else:\n",
    "            modstr = module.__repr__()\n",
    "        modstr = _addindent(modstr, 2)\n",
    "\n",
    "        params = sum([np.prod(p.size()) for p in module.parameters()])\n",
    "        weights = tuple([tuple(p.size()) for p in module.parameters()])\n",
    "\n",
    "        tmpstr += '  (' + key + '): ' + modstr\n",
    "        if show_weights:\n",
    "            tmpstr += ', weights={}'.format(weights)\n",
    "        if show_parameters:\n",
    "            tmpstr +=  ', parameters={}'.format(params)\n",
    "        tmpstr += '\\n'\n",
    "\n",
    "    tmpstr = tmpstr + ')'\n",
    "    return tmpstr"
   ],
   "metadata": {
    "collapsed": false
   },
   "id": "85657b8531b408a5"
  },
  {
   "cell_type": "markdown",
   "source": [
    "# Train"
   ],
   "metadata": {
    "collapsed": false
   },
   "id": "c04381df2947a3f"
  },
  {
   "cell_type": "code",
   "execution_count": 19,
   "outputs": [
    {
     "name": "stdout",
     "output_type": "stream",
     "text": [
      "#P_EEGNet :  1312\n"
     ]
    }
   ],
   "source": [
    "len(train_dataset)\n",
    "model = ECGNet(n_classes=2, channels=1, samples=length_channels, dropoutRate=0, \n",
    "                      kernelLength=64, kernelLength2=16, F1=8, D=2, F2=16).to(device)\n",
    "\n",
    "#model.apply(lambda m: utils.custom_normal_weights_init(m, mean=0.0, variance=0.1))\n",
    "\n",
    "print(\"#P_ECGNet : \", sum(p.numel() for p in model.parameters() if p.requires_grad))"
   ],
   "metadata": {
    "collapsed": false,
    "ExecuteTime": {
     "end_time": "2024-02-21T18:01:10.382065200Z",
     "start_time": "2024-02-21T18:01:10.311034500Z"
    }
   },
   "id": "d29f74e4ae69d4f4"
  },
  {
   "cell_type": "markdown",
   "source": [
    "# SOlve Imlabance data"
   ],
   "metadata": {
    "collapsed": false
   },
   "id": "6c46143348fac211"
  },
  {
   "cell_type": "code",
   "execution_count": 20,
   "outputs": [],
   "source": [
    "n1 = len([label for label in full_dataset.labels if label == 0])\n",
    "n2 = len([label for label in full_dataset.labels if label == 1])\n",
    "total = n1 + n2\n",
    "\n",
    "weight_for_class_0 = total / (2.0 * n1)\n",
    "weight_for_class_1 = total / (2.0 * n2)\n",
    "weights = torch.tensor([weight_for_class_0, weight_for_class_1], dtype=torch.float)\n",
    "\n",
    "# Move weights to the same device as your model\n",
    "weights = weights.to(device)"
   ],
   "metadata": {
    "collapsed": false,
    "ExecuteTime": {
     "end_time": "2024-02-21T18:01:12.368664800Z",
     "start_time": "2024-02-21T18:01:12.353035Z"
    }
   },
   "id": "b349f3927440b55d"
  },
  {
   "cell_type": "code",
   "execution_count": 21,
   "outputs": [],
   "source": [
    "model.to(device)\n",
    "optimizer = optim.Adam(model.parameters(), lr=learning_rate)\n",
    "criterion = nn.CrossEntropyLoss(weight=weights)\n",
    "best_val_loss = float('inf')\n",
    "epochs, train_losses, train_accuracies, val_losses, val_accuracies = [], [], [], [], []"
   ],
   "metadata": {
    "collapsed": false,
    "ExecuteTime": {
     "end_time": "2024-02-21T18:01:12.907514600Z",
     "start_time": "2024-02-21T18:01:12.888657100Z"
    }
   },
   "id": "aa5a8c3150105000"
  },
  {
   "cell_type": "code",
   "execution_count": 22,
   "outputs": [
    {
     "data": {
      "text/plain": "EEGNet(\n  (blocks): Sequential(\n    (0): Sequential(\n      (0): Conv2d(1, 8, kernel_size=(1, 64), stride=(1, 1), padding=(0, 32), bias=False)\n      (1): BatchNorm2d(8, eps=0.001, momentum=0.01, affine=True, track_running_stats=True)\n      (2): Conv2dWithConstraint(8, 16, kernel_size=(1, 1), stride=(1, 1), groups=8, bias=False)\n      (3): BatchNorm2d(16, eps=0.001, momentum=0.01, affine=True, track_running_stats=True)\n      (4): ELU(alpha=1.0)\n      (5): AvgPool2d(kernel_size=(1, 4), stride=4, padding=0)\n      (6): Dropout(p=0, inplace=False)\n    )\n    (1): Sequential(\n      (0): Conv2d(16, 16, kernel_size=(1, 16), stride=(1, 1), padding=(0, 8), groups=16, bias=False)\n      (1): Conv2d(16, 16, kernel_size=(1, 1), stride=(1, 1), bias=False)\n      (2): BatchNorm2d(16, eps=0.001, momentum=0.01, affine=True, track_running_stats=True)\n      (3): ELU(alpha=1.0)\n      (4): AvgPool2d(kernel_size=(1, 8), stride=8, padding=0)\n      (5): Dropout(p=0, inplace=False)\n    )\n  )\n  (classifierBlock): Sequential(\n    (0): Linear(in_features=96, out_features=2, bias=False)\n    (1): Softmax(dim=1)\n  )\n)"
     },
     "execution_count": 22,
     "metadata": {},
     "output_type": "execute_result"
    }
   ],
   "source": [
    "model"
   ],
   "metadata": {
    "collapsed": false,
    "ExecuteTime": {
     "end_time": "2024-02-21T18:01:13.763700900Z",
     "start_time": "2024-02-21T18:01:13.728015Z"
    }
   },
   "id": "964af45126d22416"
  },
  {
   "cell_type": "code",
   "execution_count": 44,
   "outputs": [],
   "source": [
    "init_epoch = 0\n",
    "num_epochs = 50\n",
    "learning_rate = 0.005"
   ],
   "metadata": {
    "collapsed": false,
    "ExecuteTime": {
     "end_time": "2024-02-21T18:12:15.855610Z",
     "start_time": "2024-02-21T18:12:15.818391600Z"
    }
   },
   "id": "d40376661716b78f"
  },
  {
   "cell_type": "code",
   "execution_count": 45,
   "outputs": [
    {
     "name": "stderr",
     "output_type": "stream",
     "text": [
      "                                                            \r"
     ]
    },
    {
     "name": "stdout",
     "output_type": "stream",
     "text": [
      "Epoch: 299 | Train Loss: 0.3456 | Train Acc: 97.17% | Val Loss: 0.3580 | Val Acc: 95.88%\n"
     ]
    },
    {
     "data": {
      "text/plain": "<Figure size 800x400 with 2 Axes>",
      "image/png": "[encoded data removed]"
     },
     "metadata": {},
     "output_type": "display_data"
    }
   ],
   "source": [
    "for epoch in range(init_epoch, init_epoch + num_epochs):\n",
    "    model.train()\n",
    "    running_loss = 0.0\n",
    "    correct = 0\n",
    "    total = 0\n",
    "    for inputs, labels in tqdm(train_dataloader, desc=f'Epoch {epoch + 1}/{num_epochs}', leave=False):\n",
    "        inputs, labels = inputs.to(device), labels.to(device)\n",
    "        inputs, labels = inputs.float(), labels.long()\n",
    "        inputs = torch.unsqueeze(inputs, 1)\n",
    "        optimizer.zero_grad()\n",
    "        outputs = model(inputs)\n",
    "        loss = criterion(outputs, labels)\n",
    "        loss.backward()\n",
    "        optimizer.step()\n",
    "\n",
    "        running_loss += loss.item()\n",
    "        _, predicted = outputs.max(1)\n",
    "        total += labels.size(0)\n",
    "        correct += predicted.eq(labels).sum().item()\n",
    "\n",
    "    train_loss = running_loss / len(train_dataloader)\n",
    "    train_acc = 100. * correct / total\n",
    "    train_losses.append(train_loss)\n",
    "    train_accuracies.append(train_acc)\n",
    "\n",
    "    # Evaluate on validation set\n",
    "    val_loss, val_acc = evaluate_classifier(model, val_dataloader, criterion, device=device)\n",
    "    val_losses.append(val_loss)\n",
    "    val_accuracies.append(val_acc)\n",
    "    epochs.append(epoch + 1)\n",
    "\n",
    "    print(f\"Epoch: {epoch+1} | Train Loss: {train_loss:.4f} | Train Acc: {train_acc:.2f}% | \"\n",
    "          f\"Val Loss: {val_loss:.4f} | Val Acc: {val_acc:.2f}%\")\n",
    "\n",
    "    # Save the best model based on validation accuracy\n",
    "    if val_loss < best_val_loss:\n",
    "        print(\"Validation loss improved. Saving the model...\")\n",
    "        torch.save(model.state_dict(), save_path)\n",
    "        best_val_loss = val_loss\n",
    "    \n",
    "    plot_training_history(epochs, train_losses, train_accuracies, val_losses, val_accuracies)\n"
   ],
   "metadata": {
    "collapsed": false,
    "ExecuteTime": {
     "end_time": "2024-02-21T18:12:17.794103600Z",
     "start_time": "2024-02-21T18:12:16.308098400Z"
    }
   },
   "id": "5ebec69f9b0024d7"
  },
  {
   "cell_type": "markdown",
   "source": [
    "# Test"
   ],
   "metadata": {
    "collapsed": false
   },
   "id": "28d64265429b9ea3"
  },
  {
   "cell_type": "code",
   "execution_count": 46,
   "outputs": [
    {
     "name": "stdout",
     "output_type": "stream",
     "text": [
      "Test Loss: 0.3589 | Test Acc: 96.26%\n"
     ]
    }
   ],
   "source": [
    "# Evaluate on validation set\n",
    "test_loss, test_acc = evaluate_classifier(model, test_dataloader, criterion, device=device)\n",
    "\n",
    "\n",
    "print(f\"Test Loss: {test_loss:.4f} | Test Acc: {test_acc:.2f}%\")"
   ],
   "metadata": {
    "collapsed": false,
    "ExecuteTime": {
     "end_time": "2024-02-21T18:13:55.899096900Z",
     "start_time": "2024-02-21T18:13:55.484372900Z"
    }
   },
   "id": "4e5a90fe6c2abad6"
  },
  {
   "cell_type": "markdown",
   "source": [
    "# END"
   ],
   "metadata": {
    "collapsed": false
   },
   "id": "3adcd83f68901ec9"
  },
  {
   "cell_type": "code",
   "execution_count": null,
   "outputs": [],
   "source": [],
   "metadata": {
    "collapsed": false
   },
   "id": "382a596287fd9149"
  }
 ],
 "metadata": {
  "kernelspec": {
   "display_name": "Python 3",
   "language": "python",
   "name": "python3"
  },
  "language_info": {
   "codemirror_mode": {
    "name": "ipython",
    "version": 2
   },
   "file_extension": ".py",
   "mimetype": "text/x-python",
   "name": "python",
   "nbconvert_exporter": "python",
   "pygments_lexer": "ipython2",
   "version": "2.7.6"
  }
 },
 "nbformat": 4,
 "nbformat_minor": 5
}
